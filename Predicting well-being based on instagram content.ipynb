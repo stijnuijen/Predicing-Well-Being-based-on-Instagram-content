{
 "cells": [
  {
   "cell_type": "code",
   "execution_count": null,
   "metadata": {},
   "outputs": [],
   "source": [
    "import pandas as pd\n",
    "import numpy as np\n",
    "import matplotlib.pyplot as plt\n",
    "from sklearn.linear_model import Ridge, LinearRegression, Lasso, RidgeCV, LassoCV\n",
    "from sklearn.model_selection import cross_val_score\n",
    "from sklearn.model_selection import GridSearchCV\n"
   ]
  },
  {
   "cell_type": "code",
   "execution_count": null,
   "metadata": {},
   "outputs": [],
   "source": [
    "data = pd.read_csv('dataset_case2.csv', index_col='Unnamed: 0')"
   ]
  },
  {
   "cell_type": "code",
   "execution_count": null,
   "metadata": {},
   "outputs": [],
   "source": [
    "import random\n",
    "import pandas as pd\n",
    "\n",
    "data = pd.read_csv('dataset_case2.csv', index_col='Unnamed: 0')\n",
    "\n",
    "users = tuple(data['insta_user_id'].unique())\n",
    "test_size = 20                          \n",
    "test_users = random.sample(users, test_size)\n",
    "\n",
    "df_test = data[data['insta_user_id'].isin(test_users)]\n",
    "df_train = data[~data['insta_user_id'].isin(test_users)]\n",
    "\n",
    "y_train = df_train['PERMA']\n",
    "X_train = df_train.drop(['PERMA','P','E','R','M','A','image_id','user_id','insta_user_id'], axis=1)\n",
    "\n",
    "y_test = df_test['PERMA']\n",
    "X_test = df_test.drop(['PERMA','P','E','R','M','A','image_id','user_id','insta_user_id'], axis=1)"
   ]
  },
  {
   "cell_type": "markdown",
   "metadata": {},
   "source": [
    "**OLS**"
   ]
  },
  {
   "cell_type": "code",
   "execution_count": null,
   "metadata": {},
   "outputs": [],
   "source": [
    "ols = LinearRegression()\n",
    "cv = cross_val_score(ols, X_train, y_train, cv=10)  \n",
    "print('cross validation scores : ', cv)"
   ]
  },
  {
   "cell_type": "code",
   "execution_count": null,
   "metadata": {},
   "outputs": [],
   "source": [
    "ols_model = ols.fit(X_train, y_train)\n",
    "print('Train score: ', ols.score(X_train, y_train))\n",
    "print('Test score: ', ols.score(X_test, y_test))"
   ]
  },
  {
   "cell_type": "code",
   "execution_count": null,
   "metadata": {},
   "outputs": [],
   "source": [
    "#biggest features\n",
    "ols_coefficients = pd.DataFrame(ols_model.coef_).transpose()\n",
    "ols_coefficients['feature_names']=(X_train.columns)\n",
    "ols_coefficients.nlargest(20, columns=0)\n",
    "\n",
    "# only filters as most important features!!!"
   ]
  },
  {
   "cell_type": "code",
   "execution_count": null,
   "metadata": {},
   "outputs": [],
   "source": [
    "len(ols_coefficients)"
   ]
  },
  {
   "cell_type": "code",
   "execution_count": null,
   "metadata": {},
   "outputs": [],
   "source": [
    "plt.scatter(range(X_train.shape[1]), ols_model.coef_, c=np.sign(ols_model.coef_), cmap=\"bwr_r\")\n",
    "plt.xticks(np.arange(79), X_train.columns, fontsize=6, rotation=90)\n",
    "plt.title('OLS coefficients')"
   ]
  },
  {
   "cell_type": "markdown",
   "metadata": {},
   "source": [
    "**Ridge**"
   ]
  },
  {
   "cell_type": "code",
   "execution_count": null,
   "metadata": {},
   "outputs": [],
   "source": [
    "param_grid = {'alpha': np.logspace(-3,15, 14)}\n",
    "grid = GridSearchCV(Ridge(), param_grid, cv=10, return_train_score=True)\n",
    "grid.fit(X_train, y_train)"
   ]
  },
  {
   "cell_type": "code",
   "execution_count": null,
   "metadata": {},
   "outputs": [],
   "source": [
    "results = pd.DataFrame(grid.cv_results_)\n",
    "results.plot('param_alpha', 'mean_train_score')\n",
    "results.plot('param_alpha', 'mean_test_score', ax=plt.gca())\n",
    "\n",
    "plt.legend()\n",
    "plt.ylabel('R^2')\n",
    "plt.xscale(\"log\")"
   ]
  },
  {
   "cell_type": "code",
   "execution_count": null,
   "metadata": {},
   "outputs": [],
   "source": [
    "grid.cv_results_['mean_train_score']"
   ]
  },
  {
   "cell_type": "code",
   "execution_count": null,
   "metadata": {},
   "outputs": [],
   "source": [
    "grid.cv_results_['mean_test_score']"
   ]
  },
  {
   "cell_type": "code",
   "execution_count": null,
   "metadata": {},
   "outputs": [],
   "source": [
    "print(grid.best_params_)\n",
    "print('best test score: ', grid.best_score_)"
   ]
  },
  {
   "cell_type": "code",
   "execution_count": null,
   "metadata": {},
   "outputs": [],
   "source": [
    "print('best estimator train score :' , grid.score(X_train, y_train))\n",
    "print('best estimator test score :' , grid.score(X_test, y_test))"
   ]
  },
  {
   "cell_type": "code",
   "execution_count": null,
   "metadata": {},
   "outputs": [],
   "source": [
    "#biggest features\n",
    "ridge_coefficients = pd.DataFrame(grid.best_estimator_.coef_).transpose()\n",
    "ridge_coefficients['feature_names']=(X_train.columns)\n",
    "ridge_coefficients.nlargest(5, columns=0)"
   ]
  },
  {
   "cell_type": "code",
   "execution_count": null,
   "metadata": {},
   "outputs": [],
   "source": [
    "plt.scatter(range(X_train.shape[1]), grid.best_estimator_.coef_, c=np.sign(grid.best_estimator_.coef_), cmap=\"bwr_r\")\n",
    "plt.xticks(np.arange(79), X_train.columns, fontsize=6, rotation=90)\n",
    "plt.title('best Ridge coefficients')"
   ]
  },
  {
   "cell_type": "markdown",
   "metadata": {},
   "source": [
    "**Lasso**"
   ]
  },
  {
   "cell_type": "code",
   "execution_count": null,
   "metadata": {},
   "outputs": [],
   "source": [
    "param_grid = {'alpha': np.logspace(-3,6, 14)}\n",
    "grid = GridSearchCV(Lasso(), param_grid, cv=10, return_train_score=True)\n",
    "grid.fit(X_train, y_train)"
   ]
  },
  {
   "cell_type": "code",
   "execution_count": null,
   "metadata": {},
   "outputs": [],
   "source": [
    "results = pd.DataFrame(grid.cv_results_)\n",
    "results.plot('param_alpha', 'mean_train_score')\n",
    "results.plot('param_alpha', 'mean_test_score', ax=plt.gca())\n",
    "\n",
    "plt.legend()\n",
    "plt.ylabel('R^2')\n",
    "plt.xscale(\"log\")\n"
   ]
  },
  {
   "cell_type": "code",
   "execution_count": null,
   "metadata": {},
   "outputs": [],
   "source": [
    "print(grid.best_params_)\n",
    "print('best test score: ', grid.best_score_)"
   ]
  },
  {
   "cell_type": "code",
   "execution_count": null,
   "metadata": {},
   "outputs": [],
   "source": [
    "print('best estimator train score :' , grid.score(X_train, y_train))\n",
    "print('best estimator test score :' , grid.score(X_test, y_test))"
   ]
  },
  {
   "cell_type": "code",
   "execution_count": null,
   "metadata": {},
   "outputs": [],
   "source": [
    "#biggest features\n",
    "lasso_coefficients = pd.DataFrame(grid.best_estimator_.coef_)\n",
    "lasso_coefficients['feature_names']=(X_train.columns)\n",
    "lasso_coefficients.nlargest(5, columns=0)"
   ]
  }
 ],
 "metadata": {
  "kernelspec": {
   "display_name": "Python 3",
   "language": "python",
   "name": "python3"
  },
  "language_info": {
   "codemirror_mode": {
    "name": "ipython",
    "version": 3
   },
   "file_extension": ".py",
   "mimetype": "text/x-python",
   "name": "python",
   "nbconvert_exporter": "python",
   "pygments_lexer": "ipython3",
   "version": "3.6.5"
  }
 },
 "nbformat": 4,
 "nbformat_minor": 2
}
